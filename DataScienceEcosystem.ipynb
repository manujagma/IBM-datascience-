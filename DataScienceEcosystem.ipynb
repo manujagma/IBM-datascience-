{
 "cells": [
  {
   "cell_type": "markdown",
   "id": "b40d0f13-b825-48b9-9606-881fbad49a43",
   "metadata": {},
   "source": [
    "#  Data Science Tools and Ecosystem"
   ]
  },
  {
   "cell_type": "markdown",
   "id": "83464bcc-f865-4443-aeb0-6d9950c7e873",
   "metadata": {},
   "source": [
    "**In this notebook we will be talk about some of data science languages,libaries,tools and etc.**"
   ]
  },
  {
   "cell_type": "markdown",
   "id": "831fbcfa-b44c-41f6-9e8b-c27d522942ff",
   "metadata": {},
   "source": [
    "some of the most popular languages used by data scientists:\n",
    "- Python\n",
    "- R\n",
    "- SQL\n",
    "- Julia \n",
    "- Scala"
   ]
  },
  {
   "cell_type": "markdown",
   "id": "28a3393e-bb15-4f02-ad36-361230b91f1f",
   "metadata": {},
   "source": [
    "some of the libararies often used by data scientists are:\n",
    "- NumPy\n",
    "- Pandas\n",
    "- Matplotlib\n",
    "- Scikit-learn\n",
    "- TensorFlow"
   ]
  },
  {
   "cell_type": "markdown",
   "id": "e8860850-bed4-4117-b9b3-9ef99a289002",
   "metadata": {},
   "source": [
    "### Data science Tools\n",
    "| Tool |Category|\n",
    "| :----: | :------: |\n",
    "| Jupyter Notebook | Development Tool |\n",
    "| Apache Spark | Big Data Framework |\n",
    "| Tableau | Visualization Tool |\n",
    "| VS code | IDE |\n",
    "| TensorFolw | Machine learning |"
   ]
  },
  {
   "cell_type": "markdown",
   "id": "a7c0fd13-7b8e-462a-a4f3-bd21b35b0c03",
   "metadata": {},
   "source": [
    "####  Below we will evaluate some simple arithmetis expressions using Python code."
   ]
  },
  {
   "cell_type": "code",
   "execution_count": 2,
   "id": "800aa15f-a108-490f-9b9c-fd5049ce72fc",
   "metadata": {},
   "outputs": [
    {
     "data": {
      "text/plain": [
       "82"
      ]
     },
     "execution_count": 2,
     "metadata": {},
     "output_type": "execute_result"
    }
   ],
   "source": [
    "(5*3)+67"
   ]
  },
  {
   "cell_type": "code",
   "execution_count": 4,
   "id": "4c55b190-af04-4c63-a342-807c1d57697c",
   "metadata": {},
   "outputs": [
    {
     "data": {
      "text/plain": [
       "20.0"
      ]
     },
     "execution_count": 4,
     "metadata": {},
     "output_type": "execute_result"
    }
   ],
   "source": [
    "minutes=1200\n",
    "hours = minutes/60\n",
    "hours"
   ]
  },
  {
   "cell_type": "markdown",
   "id": "06684054-7fd1-499f-b994-6eaa51d259b1",
   "metadata": {},
   "source": [
    "###  Objectives\n",
    "- List popular languages for Data Science\n",
    "- List commonly used libraries in Data Science\n",
    "- Create tables using markdown\n",
    "- Perform arithmetic operations using Python\n",
    "- Convert units in Python"
   ]
  },
  {
   "cell_type": "markdown",
   "id": "846b7615-3c4a-4115-9212-095102440769",
   "metadata": {},
   "source": [
    "### Author\n",
    "*Manuja gamadikari*\n",
    "\n"
   ]
  },
  {
   "cell_type": "markdown",
   "id": "cb807d68-2ee1-482a-8202-7fd28f163ca0",
   "metadata": {},
   "source": [
    "### GitHub Link \n",
    "[Link to my Github Notebook](https://github.com/manujagma/IBM-datascience-)"
   ]
  }
 ],
 "metadata": {
  "kernelspec": {
   "display_name": "Python [conda env:base] *",
   "language": "python",
   "name": "conda-base-py"
  },
  "language_info": {
   "codemirror_mode": {
    "name": "ipython",
    "version": 3
   },
   "file_extension": ".py",
   "mimetype": "text/x-python",
   "name": "python",
   "nbconvert_exporter": "python",
   "pygments_lexer": "ipython3",
   "version": "3.12.7"
  }
 },
 "nbformat": 4,
 "nbformat_minor": 5
}
